{
 "cells": [
  {
   "cell_type": "markdown",
   "id": "aa097a11",
   "metadata": {},
   "source": [
    "# Bike Sharing Demand\n",
    "This dataset consists of the number of public bikes rented in Seoul's bike sharing system at each hour. It also includes information about the weather and the time, such as whether it was a public holiday."
   ]
  },
  {
   "cell_type": "markdown",
   "id": "91a664c7",
   "metadata": {},
   "source": [
    "## Import modules and data"
   ]
  },
  {
   "cell_type": "code",
   "execution_count": 210,
   "id": "e0682bd0",
   "metadata": {},
   "outputs": [],
   "source": [
    "# Import modules\n",
    "import pandas as pd\n",
    "import matplotlib.pyplot as plt\n",
    "import numpy as np\n",
    "import seaborn as sns\n",
    "from datetime import datetime\n",
    "import warnings\n",
    "\n",
    "# Ignore warnings\n",
    "warnings.filterwarnings('ignore')"
   ]
  },
  {
   "cell_type": "code",
   "execution_count": 211,
   "id": "61df4744",
   "metadata": {},
   "outputs": [],
   "source": [
    "# Import data\n",
    "file = 'data.csv'\n",
    "df = pd.read_csv(file)"
   ]
  },
  {
   "cell_type": "markdown",
   "id": "7b1a2abd",
   "metadata": {},
   "source": [
    "## Cleaning data and feature engineering"
   ]
  },
  {
   "cell_type": "code",
   "execution_count": 212,
   "id": "b8d34ec8",
   "metadata": {},
   "outputs": [
    {
     "data": {
      "text/plain": [
       "Date                         object\n",
       "Rented Bike Count             int64\n",
       "Hour                          int64\n",
       "Temperature(C)              float64\n",
       "Humidity(%)                   int64\n",
       "Wind speed (m/s)            float64\n",
       "Visibility (10m)              int64\n",
       "Dew point temperature(C)    float64\n",
       "Solar Radiation (MJ/m2)     float64\n",
       "Rainfall(mm)                float64\n",
       "Snowfall (cm)               float64\n",
       "Seasons                      object\n",
       "Holiday                      object\n",
       "Functioning Day              object\n",
       "dtype: object"
      ]
     },
     "execution_count": 212,
     "metadata": {},
     "output_type": "execute_result"
    }
   ],
   "source": [
    "# Check data types \n",
    "df.dtypes"
   ]
  },
  {
   "cell_type": "code",
   "execution_count": 213,
   "id": "inclusive-leeds",
   "metadata": {},
   "outputs": [],
   "source": [
    "# Convert date category to date time\n",
    "df['Date'] = pd.to_datetime(df['Date'])"
   ]
  },
  {
   "cell_type": "code",
   "execution_count": 214,
   "id": "42d8eb0f",
   "metadata": {},
   "outputs": [
    {
     "data": {
      "text/plain": [
       "Sunday       1296\n",
       "Wednesday    1272\n",
       "Tuesday      1272\n",
       "Thursday     1248\n",
       "Saturday     1248\n",
       "Friday       1224\n",
       "Monday       1200\n",
       "Name: day_of_week, dtype: int64"
      ]
     },
     "execution_count": 214,
     "metadata": {},
     "output_type": "execute_result"
    }
   ],
   "source": [
    "# Creating new column 'Week Day'\n",
    "df['day_of_week'] = df['Date'].dt.day_name()\n",
    "\n",
    "# Check unique values\n",
    "df['day_of_week'].value_counts()"
   ]
  },
  {
   "cell_type": "markdown",
   "id": "6596a58c",
   "metadata": {},
   "source": [
    "REASON CREATED: Day of the week can impact bike sharing demand. In particular, more people could rent bikes on the weekend because people could have more time (e.g. not working)"
   ]
  },
  {
   "cell_type": "code",
   "execution_count": 215,
   "id": "da42073d",
   "metadata": {},
   "outputs": [],
   "source": [
    "# Import ftod from funcs.py\n",
    "from funcs import ftod\n",
    "\n",
    "# Creating new 'time_of_day'\n",
    "df['time_of_day'] = df.Hour.map(ftod) "
   ]
  },
  {
   "cell_type": "markdown",
   "id": "b3769363",
   "metadata": {},
   "source": [
    "REASON CREATED: Time of day can impact bike sharing demand because more people will be awake to rent bikes. "
   ]
  },
  {
   "cell_type": "code",
   "execution_count": 216,
   "id": "8586523a",
   "metadata": {},
   "outputs": [],
   "source": [
    "# Extracting month column \n",
    "df['month'] = pd.DatetimeIndex(df['Date']).month"
   ]
  },
  {
   "cell_type": "markdown",
   "id": "d85a0790",
   "metadata": {},
   "source": [
    "REASON CREATED: The month can impact bike sharing demand because demand may fluctuate depending on the time of year."
   ]
  },
  {
   "cell_type": "code",
   "execution_count": 217,
   "id": "5edea242-9793-45f3-9e17-f209e81de77a",
   "metadata": {},
   "outputs": [
    {
     "data": {
      "text/plain": [
       "Yes    8465\n",
       "No      295\n",
       "Name: Functioning Day, dtype: int64"
      ]
     },
     "execution_count": 217,
     "metadata": {},
     "output_type": "execute_result"
    }
   ],
   "source": [
    "# Count how many functioning and non-function days\n",
    "df['Functioning Day'].value_counts()"
   ]
  },
  {
   "cell_type": "code",
   "execution_count": 218,
   "id": "f94481c3",
   "metadata": {},
   "outputs": [
    {
     "name": "stdout",
     "output_type": "stream",
     "text": [
      "The maximum value of a non-functioning day is 0.\n"
     ]
    }
   ],
   "source": [
    "# Examining the maximum rented bike count for non-functioning days\n",
    "not_functioning = df['Functioning Day'] == \"No\"\n",
    "\n",
    "print(f'The maximum value of a non-functioning day is {df[not_functioning][\"Rented Bike Count\"].max()}.')"
   ]
  },
  {
   "cell_type": "markdown",
   "id": "236f2990",
   "metadata": {},
   "source": [
    "Since the maximum value is 0, I decided to remove non-functioning days from the dataset because they are not adding any value, and these data points could affect model performance."
   ]
  },
  {
   "cell_type": "code",
   "execution_count": 219,
   "id": "2eb0f177-64f6-4eaa-98c4-6d17b33d28f7",
   "metadata": {},
   "outputs": [
    {
     "data": {
      "text/plain": [
       "Yes    8465\n",
       "Name: Functioning Day, dtype: int64"
      ]
     },
     "execution_count": 219,
     "metadata": {},
     "output_type": "execute_result"
    }
   ],
   "source": [
    "# Getting the rows that are functioning days\n",
    "df = df[~not_functioning]\n",
    "\n",
    "# Confirming that the non-functioning days were dropped\n",
    "df['Functioning Day'].value_counts()"
   ]
  },
  {
   "cell_type": "markdown",
   "id": "eb393539",
   "metadata": {},
   "source": [
    "Since all of the data are function days, the 'Functioning Day' column becomes unneccessary. Thus, drop the the 'Functioning Day' column."
   ]
  },
  {
   "cell_type": "code",
   "execution_count": 220,
   "id": "7956a98b",
   "metadata": {},
   "outputs": [
    {
     "data": {
      "text/html": [
       "<div>\n",
       "<style scoped>\n",
       "    .dataframe tbody tr th:only-of-type {\n",
       "        vertical-align: middle;\n",
       "    }\n",
       "\n",
       "    .dataframe tbody tr th {\n",
       "        vertical-align: top;\n",
       "    }\n",
       "\n",
       "    .dataframe thead th {\n",
       "        text-align: right;\n",
       "    }\n",
       "</style>\n",
       "<table border=\"1\" class=\"dataframe\">\n",
       "  <thead>\n",
       "    <tr style=\"text-align: right;\">\n",
       "      <th></th>\n",
       "      <th>Date</th>\n",
       "      <th>Rented Bike Count</th>\n",
       "      <th>Hour</th>\n",
       "      <th>Temperature(C)</th>\n",
       "      <th>Humidity(%)</th>\n",
       "      <th>Wind speed (m/s)</th>\n",
       "      <th>Visibility (10m)</th>\n",
       "      <th>Dew point temperature(C)</th>\n",
       "      <th>Solar Radiation (MJ/m2)</th>\n",
       "      <th>Rainfall(mm)</th>\n",
       "      <th>Snowfall (cm)</th>\n",
       "      <th>Seasons</th>\n",
       "      <th>Holiday</th>\n",
       "      <th>day_of_week</th>\n",
       "      <th>time_of_day</th>\n",
       "      <th>month</th>\n",
       "    </tr>\n",
       "  </thead>\n",
       "  <tbody>\n",
       "    <tr>\n",
       "      <th>0</th>\n",
       "      <td>2017-01-12</td>\n",
       "      <td>254</td>\n",
       "      <td>0</td>\n",
       "      <td>-5.2</td>\n",
       "      <td>37</td>\n",
       "      <td>2.2</td>\n",
       "      <td>2000</td>\n",
       "      <td>-17.6</td>\n",
       "      <td>0.0</td>\n",
       "      <td>0.0</td>\n",
       "      <td>0.0</td>\n",
       "      <td>Winter</td>\n",
       "      <td>No Holiday</td>\n",
       "      <td>Thursday</td>\n",
       "      <td>night</td>\n",
       "      <td>1</td>\n",
       "    </tr>\n",
       "    <tr>\n",
       "      <th>1</th>\n",
       "      <td>2017-01-12</td>\n",
       "      <td>204</td>\n",
       "      <td>1</td>\n",
       "      <td>-5.5</td>\n",
       "      <td>38</td>\n",
       "      <td>0.8</td>\n",
       "      <td>2000</td>\n",
       "      <td>-17.6</td>\n",
       "      <td>0.0</td>\n",
       "      <td>0.0</td>\n",
       "      <td>0.0</td>\n",
       "      <td>Winter</td>\n",
       "      <td>No Holiday</td>\n",
       "      <td>Thursday</td>\n",
       "      <td>night</td>\n",
       "      <td>1</td>\n",
       "    </tr>\n",
       "    <tr>\n",
       "      <th>2</th>\n",
       "      <td>2017-01-12</td>\n",
       "      <td>173</td>\n",
       "      <td>2</td>\n",
       "      <td>-6.0</td>\n",
       "      <td>39</td>\n",
       "      <td>1.0</td>\n",
       "      <td>2000</td>\n",
       "      <td>-17.7</td>\n",
       "      <td>0.0</td>\n",
       "      <td>0.0</td>\n",
       "      <td>0.0</td>\n",
       "      <td>Winter</td>\n",
       "      <td>No Holiday</td>\n",
       "      <td>Thursday</td>\n",
       "      <td>night</td>\n",
       "      <td>1</td>\n",
       "    </tr>\n",
       "    <tr>\n",
       "      <th>3</th>\n",
       "      <td>2017-01-12</td>\n",
       "      <td>107</td>\n",
       "      <td>3</td>\n",
       "      <td>-6.2</td>\n",
       "      <td>40</td>\n",
       "      <td>0.9</td>\n",
       "      <td>2000</td>\n",
       "      <td>-17.6</td>\n",
       "      <td>0.0</td>\n",
       "      <td>0.0</td>\n",
       "      <td>0.0</td>\n",
       "      <td>Winter</td>\n",
       "      <td>No Holiday</td>\n",
       "      <td>Thursday</td>\n",
       "      <td>night</td>\n",
       "      <td>1</td>\n",
       "    </tr>\n",
       "    <tr>\n",
       "      <th>4</th>\n",
       "      <td>2017-01-12</td>\n",
       "      <td>78</td>\n",
       "      <td>4</td>\n",
       "      <td>-6.0</td>\n",
       "      <td>36</td>\n",
       "      <td>2.3</td>\n",
       "      <td>2000</td>\n",
       "      <td>-18.6</td>\n",
       "      <td>0.0</td>\n",
       "      <td>0.0</td>\n",
       "      <td>0.0</td>\n",
       "      <td>Winter</td>\n",
       "      <td>No Holiday</td>\n",
       "      <td>Thursday</td>\n",
       "      <td>night</td>\n",
       "      <td>1</td>\n",
       "    </tr>\n",
       "  </tbody>\n",
       "</table>\n",
       "</div>"
      ],
      "text/plain": [
       "        Date  Rented Bike Count  Hour  Temperature(C)  Humidity(%)  \\\n",
       "0 2017-01-12                254     0            -5.2           37   \n",
       "1 2017-01-12                204     1            -5.5           38   \n",
       "2 2017-01-12                173     2            -6.0           39   \n",
       "3 2017-01-12                107     3            -6.2           40   \n",
       "4 2017-01-12                 78     4            -6.0           36   \n",
       "\n",
       "   Wind speed (m/s)  Visibility (10m)  Dew point temperature(C)  \\\n",
       "0               2.2              2000                     -17.6   \n",
       "1               0.8              2000                     -17.6   \n",
       "2               1.0              2000                     -17.7   \n",
       "3               0.9              2000                     -17.6   \n",
       "4               2.3              2000                     -18.6   \n",
       "\n",
       "   Solar Radiation (MJ/m2)  Rainfall(mm)  Snowfall (cm) Seasons     Holiday  \\\n",
       "0                      0.0           0.0            0.0  Winter  No Holiday   \n",
       "1                      0.0           0.0            0.0  Winter  No Holiday   \n",
       "2                      0.0           0.0            0.0  Winter  No Holiday   \n",
       "3                      0.0           0.0            0.0  Winter  No Holiday   \n",
       "4                      0.0           0.0            0.0  Winter  No Holiday   \n",
       "\n",
       "  day_of_week time_of_day  month  \n",
       "0    Thursday       night      1  \n",
       "1    Thursday       night      1  \n",
       "2    Thursday       night      1  \n",
       "3    Thursday       night      1  \n",
       "4    Thursday       night      1  "
      ]
     },
     "execution_count": 220,
     "metadata": {},
     "output_type": "execute_result"
    }
   ],
   "source": [
    "# Dropping 'Functioning Day' column\n",
    "df.drop(columns=['Functioning Day'], axis=1, inplace=True)\n",
    "\n",
    "# Reset index\n",
    "df.reset_index()\n",
    "\n",
    "# Confirming column was dropped\n",
    "df.head()"
   ]
  },
  {
   "cell_type": "code",
   "execution_count": 221,
   "id": "acfafbea",
   "metadata": {},
   "outputs": [
    {
     "data": {
      "text/plain": [
       "Date                        datetime64[ns]\n",
       "Rented Bike Count                    int64\n",
       "Hour                              category\n",
       "Temperature(C)                     float64\n",
       "Humidity(%)                          int64\n",
       "Wind speed (m/s)                   float64\n",
       "Visibility (10m)                     int64\n",
       "Dew point temperature(C)           float64\n",
       "Solar Radiation (MJ/m2)            float64\n",
       "Rainfall(mm)                       float64\n",
       "Snowfall (cm)                      float64\n",
       "Seasons                           category\n",
       "Holiday                           category\n",
       "day_of_week                       category\n",
       "time_of_day                       category\n",
       "month                             category\n",
       "dtype: object"
      ]
     },
     "execution_count": 221,
     "metadata": {},
     "output_type": "execute_result"
    }
   ],
   "source": [
    "# Converting 'Seasons', 'Holiday,' and 'day_of_week' to categorical\n",
    "cat = ['Seasons', 'Holiday', 'day_of_week', 'month', 'Hour', 'time_of_day']\n",
    "\n",
    "for c in cat:\n",
    "    df[c] = df[c].astype('category')\n",
    "    \n",
    "# Verify change\n",
    "df.dtypes"
   ]
  },
  {
   "cell_type": "code",
   "execution_count": 222,
   "id": "480490da",
   "metadata": {},
   "outputs": [
    {
     "data": {
      "text/html": [
       "<div>\n",
       "<style scoped>\n",
       "    .dataframe tbody tr th:only-of-type {\n",
       "        vertical-align: middle;\n",
       "    }\n",
       "\n",
       "    .dataframe tbody tr th {\n",
       "        vertical-align: top;\n",
       "    }\n",
       "\n",
       "    .dataframe thead th {\n",
       "        text-align: right;\n",
       "    }\n",
       "</style>\n",
       "<table border=\"1\" class=\"dataframe\">\n",
       "  <thead>\n",
       "    <tr style=\"text-align: right;\">\n",
       "      <th></th>\n",
       "      <th>Rented Bike Count</th>\n",
       "      <th>Hour</th>\n",
       "      <th>Temperature(C)</th>\n",
       "      <th>Wind speed (m/s)</th>\n",
       "      <th>Rainfall(mm)</th>\n",
       "      <th>Seasons</th>\n",
       "      <th>Holiday</th>\n",
       "      <th>day_of_week</th>\n",
       "      <th>time_of_day</th>\n",
       "      <th>month</th>\n",
       "    </tr>\n",
       "  </thead>\n",
       "  <tbody>\n",
       "    <tr>\n",
       "      <th>0</th>\n",
       "      <td>254</td>\n",
       "      <td>0</td>\n",
       "      <td>-5.2</td>\n",
       "      <td>2.2</td>\n",
       "      <td>0.0</td>\n",
       "      <td>Winter</td>\n",
       "      <td>No Holiday</td>\n",
       "      <td>Thursday</td>\n",
       "      <td>night</td>\n",
       "      <td>1</td>\n",
       "    </tr>\n",
       "    <tr>\n",
       "      <th>1</th>\n",
       "      <td>204</td>\n",
       "      <td>1</td>\n",
       "      <td>-5.5</td>\n",
       "      <td>0.8</td>\n",
       "      <td>0.0</td>\n",
       "      <td>Winter</td>\n",
       "      <td>No Holiday</td>\n",
       "      <td>Thursday</td>\n",
       "      <td>night</td>\n",
       "      <td>1</td>\n",
       "    </tr>\n",
       "    <tr>\n",
       "      <th>2</th>\n",
       "      <td>173</td>\n",
       "      <td>2</td>\n",
       "      <td>-6.0</td>\n",
       "      <td>1.0</td>\n",
       "      <td>0.0</td>\n",
       "      <td>Winter</td>\n",
       "      <td>No Holiday</td>\n",
       "      <td>Thursday</td>\n",
       "      <td>night</td>\n",
       "      <td>1</td>\n",
       "    </tr>\n",
       "    <tr>\n",
       "      <th>3</th>\n",
       "      <td>107</td>\n",
       "      <td>3</td>\n",
       "      <td>-6.2</td>\n",
       "      <td>0.9</td>\n",
       "      <td>0.0</td>\n",
       "      <td>Winter</td>\n",
       "      <td>No Holiday</td>\n",
       "      <td>Thursday</td>\n",
       "      <td>night</td>\n",
       "      <td>1</td>\n",
       "    </tr>\n",
       "    <tr>\n",
       "      <th>4</th>\n",
       "      <td>78</td>\n",
       "      <td>4</td>\n",
       "      <td>-6.0</td>\n",
       "      <td>2.3</td>\n",
       "      <td>0.0</td>\n",
       "      <td>Winter</td>\n",
       "      <td>No Holiday</td>\n",
       "      <td>Thursday</td>\n",
       "      <td>night</td>\n",
       "      <td>1</td>\n",
       "    </tr>\n",
       "  </tbody>\n",
       "</table>\n",
       "</div>"
      ],
      "text/plain": [
       "   Rented Bike Count Hour  Temperature(C)  Wind speed (m/s)  Rainfall(mm)  \\\n",
       "0                254    0            -5.2               2.2           0.0   \n",
       "1                204    1            -5.5               0.8           0.0   \n",
       "2                173    2            -6.0               1.0           0.0   \n",
       "3                107    3            -6.2               0.9           0.0   \n",
       "4                 78    4            -6.0               2.3           0.0   \n",
       "\n",
       "  Seasons     Holiday day_of_week time_of_day month  \n",
       "0  Winter  No Holiday    Thursday       night     1  \n",
       "1  Winter  No Holiday    Thursday       night     1  \n",
       "2  Winter  No Holiday    Thursday       night     1  \n",
       "3  Winter  No Holiday    Thursday       night     1  \n",
       "4  Winter  No Holiday    Thursday       night     1  "
      ]
     },
     "execution_count": 222,
     "metadata": {},
     "output_type": "execute_result"
    }
   ],
   "source": [
    "# Dropping 'unneccesary columns'\n",
    "cols = ['Solar Radiation (MJ/m2)', 'Dew point temperature(C)', 'Visibility (10m)', 'Snowfall (cm)', 'Date', 'Humidity(%)']\n",
    "df.drop(cols, axis=1, inplace=True)\n",
    "df.reset_index()\n",
    "\n",
    "# Verify change\n",
    "df.head()"
   ]
  },
  {
   "cell_type": "markdown",
   "id": "bbd7e1c3",
   "metadata": {},
   "source": [
    "## Exploratory Data Analysis"
   ]
  },
  {
   "cell_type": "code",
   "execution_count": 223,
   "id": "edead391-7965-41f3-ac67-9a1d64b8101c",
   "metadata": {},
   "outputs": [
    {
     "data": {
      "text/plain": [
       "Rented Bike Count    1.000000\n",
       "Temperature(C)       0.562740\n",
       "Wind speed (m/s)     0.125022\n",
       "Rainfall(mm)        -0.128626\n",
       "Name: Rented Bike Count, dtype: float64"
      ]
     },
     "execution_count": 223,
     "metadata": {},
     "output_type": "execute_result"
    }
   ],
   "source": [
    "# Looking for correlations with 'Rented Bike Count'\n",
    "corr_matrix = df.corr()\n",
    "corr_matrix['Rented Bike Count'].sort_values(ascending=False)"
   ]
  },
  {
   "cell_type": "markdown",
   "id": "cd2e1ec6",
   "metadata": {},
   "source": [
    "\n",
    "Based on the correlation matrix, 'Temperature(C)' has the highest correlation with 'Rented Bike Count'. "
   ]
  },
  {
   "cell_type": "code",
   "execution_count": 224,
   "id": "ace2acee",
   "metadata": {},
   "outputs": [
    {
     "data": {
      "text/plain": [
       "<AxesSubplot:xlabel='Temperature(C)', ylabel='Rented Bike Count'>"
      ]
     },
     "execution_count": 224,
     "metadata": {},
     "output_type": "execute_result"
    },
    {
     "data": {
      "image/png": "[encoded data removed]",
      "text/plain": [
       "<Figure size 432x288 with 1 Axes>"
      ]
     },
     "metadata": {
      "needs_background": "light"
     },
     "output_type": "display_data"
    }
   ],
   "source": [
    "# Visualizing Temperature(C) and bike count\n",
    "sns.scatterplot(x='Temperature(C)', y='Rented Bike Count', data=df)"
   ]
  },
  {
   "cell_type": "markdown",
   "id": "07115a81",
   "metadata": {},
   "source": [
    "'Temperature(C)' and 'Rented Bike Count' do not have a linear relationship. It seems that they have a nonlinear relationship because 'Rented Bike Count' increases as 'Temperature(C)' increases, but that linear trend disappears around 25°C (or 77°F) and 'Rented Bike Count' decreases."
   ]
  },
  {
   "cell_type": "code",
   "execution_count": 225,
   "id": "d1f91560",
   "metadata": {},
   "outputs": [
    {
     "data": {
      "text/plain": [
       "<AxesSubplot:xlabel='Hour', ylabel='Rented Bike Count'>"
      ]
     },
     "execution_count": 225,
     "metadata": {},
     "output_type": "execute_result"
    },
    {
     "data": {
      "image/png": "[encoded data removed]",
      "text/plain": [
       "<Figure size 432x288 with 1 Axes>"
      ]
     },
     "metadata": {
      "needs_background": "light"
     },
     "output_type": "display_data"
    }
   ],
   "source": [
    "# Visualizing Hour and bike count\n",
    "sns.barplot(x='Hour', y='Rented Bike Count', data=df)"
   ]
  },
  {
   "cell_type": "markdown",
   "id": "2a53f801",
   "metadata": {},
   "source": [
    "The rented bike count is the highest at 6pm (18), 7pm (19), and 8am (8)"
   ]
  },
  {
   "cell_type": "code",
   "execution_count": 226,
   "id": "d9fad15d",
   "metadata": {},
   "outputs": [
    {
     "data": {
      "text/plain": [
       "<AxesSubplot:xlabel='month', ylabel='Rented Bike Count'>"
      ]
     },
     "execution_count": 226,
     "metadata": {},
     "output_type": "execute_result"
    },
    {
     "data": {
      "image/png": "[encoded data removed]",
      "text/plain": [
       "<Figure size 432x288 with 1 Axes>"
      ]
     },
     "metadata": {
      "needs_background": "light"
     },
     "output_type": "display_data"
    }
   ],
   "source": [
    "# Visualizing month and bike count\n",
    "sns.barplot(x='month', y='Rented Bike Count', data=df)"
   ]
  },
  {
   "cell_type": "markdown",
   "id": "38be736a",
   "metadata": {},
   "source": [
    "The rented bike count is the lowest in January (1), February (2), and December (12). "
   ]
  },
  {
   "cell_type": "code",
   "execution_count": 227,
   "id": "dcf50f23",
   "metadata": {},
   "outputs": [
    {
     "data": {
      "text/plain": [
       "<AxesSubplot:xlabel='Seasons', ylabel='Rented Bike Count'>"
      ]
     },
     "execution_count": 227,
     "metadata": {},
     "output_type": "execute_result"
    },
    {
     "data": {
      "image/png": "[encoded data removed]",
      "text/plain": [
       "<Figure size 432x288 with 1 Axes>"
      ]
     },
     "metadata": {
      "needs_background": "light"
     },
     "output_type": "display_data"
    }
   ],
   "source": [
    "# Visualizing Seasons and bike count\n",
    "sns.barplot(x='Seasons', y='Rented Bike Count', data=df)"
   ]
  },
  {
   "cell_type": "markdown",
   "id": "dae1d5d5",
   "metadata": {},
   "source": [
    "Winter has a signficantly lower rented bike count compared to the other seasons. The temperature could be a possible explanation since winter tends to be colder. "
   ]
  },
  {
   "cell_type": "code",
   "execution_count": 228,
   "id": "76abff9c",
   "metadata": {},
   "outputs": [
    {
     "data": {
      "text/plain": [
       "<AxesSubplot:xlabel='time_of_day', ylabel='Rented Bike Count'>"
      ]
     },
     "execution_count": 228,
     "metadata": {},
     "output_type": "execute_result"
    },
    {
     "data": {
      "image/png": "[encoded data removed]",
      "text/plain": [
       "<Figure size 432x288 with 1 Axes>"
      ]
     },
     "metadata": {
      "needs_background": "light"
     },
     "output_type": "display_data"
    }
   ],
   "source": [
    "# Visualizing time_of_day and bike count\n",
    "sns.barplot(x='time_of_day', y='Rented Bike Count', data=df)"
   ]
  },
  {
   "cell_type": "markdown",
   "id": "3895f1c5",
   "metadata": {},
   "source": [
    "During the night, the rented bike count is signficantly lower than the other times of the day. This could be due to less people being awake and the biking conditions. "
   ]
  },
  {
   "cell_type": "markdown",
   "id": "914e9c55",
   "metadata": {},
   "source": [
    "## Most important factors influencing bike demand\n",
    "\n",
    "<ul>\n",
    "    <li> Time of day </li>\n",
    "    <li> Season </li>  \n",
    "    <li> Temperature </li>\n",
    "    <li> Month </li>\n",
    "</ul>\n",
    "   "
   ]
  },
  {
   "cell_type": "markdown",
   "id": "8882fdfd",
   "metadata": {},
   "source": [
    "## Note\n",
    "I attempted to create a model that predicts bike count, but it was not successful. Regardless, here are the models I used. "
   ]
  },
  {
   "cell_type": "markdown",
   "id": "049a308e",
   "metadata": {},
   "source": [
    "## Model selection"
   ]
  },
  {
   "cell_type": "code",
   "execution_count": 229,
   "id": "6d46f48d-0a35-4a0b-b5ed-d4d981b52c67",
   "metadata": {},
   "outputs": [],
   "source": [
    "# Import train_test_split\n",
    "from sklearn.model_selection import train_test_split\n",
    "\n",
    "# Splitting data into training and test set \n",
    "train_set, test_set = train_test_split(df, test_size=0.2, random_state=42, stratify=df['month'])\n",
    "\n",
    "# Making a copy of training set\n",
    "df = train_set.drop('Rented Bike Count', axis=1)\n",
    "df_labels = train_set['Rented Bike Count'].copy()\n",
    "\n",
    "# Defining test set\n",
    "X_test = test_set.drop('Rented Bike Count', axis=1)\n",
    "y_test = test_set['Rented Bike Count'].copy()"
   ]
  },
  {
   "cell_type": "code",
   "execution_count": 230,
   "id": "fade23db-92cb-4c74-b700-5c1bd8bc7995",
   "metadata": {},
   "outputs": [],
   "source": [
    "# Import Pipeline, MinMaxScaler\n",
    "from sklearn.pipeline import Pipeline\n",
    "from sklearn.preprocessing import MinMaxScaler\n",
    "\n",
    "# Dealing with numerical features\n",
    "cat_cols = ['Hour', 'Seasons', 'Holiday', 'day_of_week', 'month', 'time_of_day']\n",
    "\n",
    "df_num = df.drop(cat_cols, axis=1)\n",
    "\n",
    "num_pipeline = Pipeline([\n",
    "    \n",
    "            ('min_max_scaler', MinMaxScaler())\n",
    "    \n",
    "        ])"
   ]
  },
  {
   "cell_type": "code",
   "execution_count": 231,
   "id": "46376dc5-2864-4c0e-a87d-6b3d0960da6e",
   "metadata": {},
   "outputs": [],
   "source": [
    "# Import OneHotEncoder\n",
    "from sklearn.preprocessing import OneHotEncoder\n",
    "\n",
    "# Dealing with categorical features\n",
    "df_cat = df[cat_cols]\n",
    "\n",
    "\n",
    "cat_pipeline = Pipeline([\n",
    "    \n",
    "            ('one_hot', OneHotEncoder())\n",
    "        \n",
    "        ])"
   ]
  },
  {
   "cell_type": "code",
   "execution_count": 232,
   "id": "50629e39-52ce-49da-9a76-3671716290eb",
   "metadata": {},
   "outputs": [],
   "source": [
    "# Import ColumnTransformer\n",
    "from sklearn.compose import ColumnTransformer\n",
    "\n",
    "# Combine pipeline steps\n",
    "num_attribs = list(df_num)\n",
    "cat_attribs = cat_cols\n",
    "\n",
    "full_pipeline = ColumnTransformer([\n",
    "                \n",
    "                ('num', num_pipeline, num_attribs),\n",
    "                ('cat', cat_pipeline, cat_attribs),\n",
    "    \n",
    "            ])\n",
    "\n",
    "# Fit and transform\n",
    "df_prepared = full_pipeline.fit_transform(df)"
   ]
  },
  {
   "cell_type": "markdown",
   "id": "4f266cd9",
   "metadata": {},
   "source": [
    "### Linear Regression"
   ]
  },
  {
   "cell_type": "code",
   "execution_count": 233,
   "id": "7c5b9b7a-164a-481e-90ff-4501705c83d7",
   "metadata": {},
   "outputs": [
    {
     "data": {
      "text/plain": [
       "385.270271143674"
      ]
     },
     "execution_count": 233,
     "metadata": {},
     "output_type": "execute_result"
    }
   ],
   "source": [
    "# Import LinearRegression, mean_squared_error, and cross_val_score\n",
    "from sklearn.linear_model import LinearRegression\n",
    "from sklearn.metrics import mean_squared_error as MSE\n",
    "from sklearn.model_selection import cross_val_score\n",
    "\n",
    "# Instantiate LinearRegression object: lin_reg \n",
    "lin_reg = LinearRegression()\n",
    "\n",
    "# Fit and predict\n",
    "lin_reg.fit(df_prepared, df_labels)\n",
    "lin_predictions = lin_reg.predict(df_prepared)\n",
    "\n",
    "# Calculate RMSE\n",
    "rmse_lin = MSE(df_labels, lin_predictions)**(1/2)\n",
    "rmse_lin"
   ]
  },
  {
   "cell_type": "markdown",
   "id": "260b24df",
   "metadata": {},
   "source": [
    "### Ridge Regression"
   ]
  },
  {
   "cell_type": "code",
   "execution_count": 234,
   "id": "0f5ff6c3",
   "metadata": {},
   "outputs": [
    {
     "data": {
      "text/plain": [
       "385.3327729109214"
      ]
     },
     "execution_count": 234,
     "metadata": {},
     "output_type": "execute_result"
    }
   ],
   "source": [
    "# Import Ridge\n",
    "from sklearn.linear_model import Ridge\n",
    "\n",
    "# Instantiate Ridge object\n",
    "ridge = Ridge(alpha=0.5)\n",
    "\n",
    "# Fit and predict\n",
    "ridge.fit(df_prepared, df_labels)\n",
    "ridge_predictions = ridge.predict(df_prepared)\n",
    "\n",
    "# Calculate RMSE\n",
    "rmse_ridge = MSE(df_labels, ridge_predictions)**(1/2)\n",
    "rmse_ridge"
   ]
  },
  {
   "cell_type": "markdown",
   "id": "38f2127f",
   "metadata": {},
   "source": [
    "### Lasso Regression"
   ]
  },
  {
   "cell_type": "code",
   "execution_count": 235,
   "id": "fb9bfb4e",
   "metadata": {},
   "outputs": [
    {
     "data": {
      "text/plain": [
       "385.85059186131065"
      ]
     },
     "execution_count": 235,
     "metadata": {},
     "output_type": "execute_result"
    }
   ],
   "source": [
    "# Import Lasso\n",
    "from sklearn.linear_model import Lasso\n",
    "\n",
    "# Create lasso regression object\n",
    "lasso = Lasso(alpha=0.5) # normalize ensures variables are on same scale\n",
    "\n",
    "# fit and predict\n",
    "lasso.fit(df_prepared, df_labels)\n",
    "lasso_pred = lasso.predict(df_prepared)\n",
    "\n",
    "# Calculate RMSE\n",
    "rmse_lasso = MSE(df_labels, lasso_pred)**(1/2)\n",
    "rmse_lasso"
   ]
  },
  {
   "cell_type": "markdown",
   "id": "0f3dc267",
   "metadata": {},
   "source": [
    "### Support Vector Regression"
   ]
  },
  {
   "cell_type": "code",
   "execution_count": 236,
   "id": "dca62feb",
   "metadata": {},
   "outputs": [
    {
     "data": {
      "text/plain": [
       "599.8944678230573"
      ]
     },
     "execution_count": 236,
     "metadata": {},
     "output_type": "execute_result"
    }
   ],
   "source": [
    "# Import SVR\n",
    "from sklearn.svm import SVR\n",
    "\n",
    "# Instantiate SVR object: svr\n",
    "svr = SVR()\n",
    "\n",
    "# Fit and predict\n",
    "svr.fit(df_prepared, df_labels)\n",
    "svr_pred = svr.predict(df_prepared)\n",
    "\n",
    "# Calculate RMSE\n",
    "rmse_svr = MSE(df_labels, svr_pred)**(1/2)\n",
    "rmse_svr"
   ]
  },
  {
   "cell_type": "markdown",
   "id": "6aecb8e9",
   "metadata": {},
   "source": [
    "### Decision Tree Regressor"
   ]
  },
  {
   "cell_type": "code",
   "execution_count": 237,
   "id": "be39c396-d128-46c0-9119-b94315773a86",
   "metadata": {},
   "outputs": [
    {
     "data": {
      "text/plain": [
       "446.98298922014055"
      ]
     },
     "execution_count": 237,
     "metadata": {},
     "output_type": "execute_result"
    }
   ],
   "source": [
    "# Import DecisionTreeRegressor\n",
    "from sklearn.tree import DecisionTreeRegressor\n",
    "\n",
    "# Set seed to 42 for reproducibility\n",
    "SEED = 42\n",
    "\n",
    "# Instantiate DecisionTreeRegressor object\n",
    "tree_reg = DecisionTreeRegressor(random_state=SEED, max_depth=5, max_features=10, min_samples_leaf=10)\n",
    "\n",
    "# Fit and predict\n",
    "tree_reg.fit(df_prepared, df_labels)\n",
    "tree_pred = tree_reg.predict(df_prepared)\n",
    "\n",
    "# Calculate RMSE\n",
    "rmse_tree = MSE(df_labels, tree_pred)**(1/2)\n",
    "rmse_tree"
   ]
  },
  {
   "cell_type": "markdown",
   "id": "0b3d7db4",
   "metadata": {},
   "source": [
    "### Random Forest Model"
   ]
  },
  {
   "cell_type": "code",
   "execution_count": 238,
   "id": "e9b4462e-3009-44f6-af1f-2eec7ce629f0",
   "metadata": {},
   "outputs": [
    {
     "data": {
      "text/plain": [
       "95.28199404451243"
      ]
     },
     "execution_count": 238,
     "metadata": {},
     "output_type": "execute_result"
    }
   ],
   "source": [
    "# Import RandomForestRegressor\n",
    "from sklearn.ensemble import RandomForestRegressor\n",
    "\n",
    "# Instantiate RandomForestRegressor object\n",
    "forest_reg = RandomForestRegressor(max_features=10, n_estimators=35, random_state=SEED)\n",
    "\n",
    "# Fit and predict\n",
    "forest_reg.fit(df_prepared, df_labels)\n",
    "forest_predictions = forest_reg.predict(df_prepared)\n",
    "\n",
    "# Calculate RMSE\n",
    "rmse_forest = MSE(df_labels, forest_predictions)**(1/2)\n",
    "rmse_forest"
   ]
  },
  {
   "cell_type": "markdown",
   "id": "d628cc7d",
   "metadata": {},
   "source": [
    "### Gradient Boosting"
   ]
  },
  {
   "cell_type": "code",
   "execution_count": 239,
   "id": "2f9d99b9",
   "metadata": {},
   "outputs": [
    {
     "data": {
      "text/plain": [
       "230.58903279266406"
      ]
     },
     "execution_count": 239,
     "metadata": {},
     "output_type": "execute_result"
    }
   ],
   "source": [
    "# Import modules\n",
    "from sklearn.ensemble import GradientBoostingRegressor\n",
    "\n",
    "# Instantiate a GradientBoostingRegressor object: gbr\n",
    "gbr = GradientBoostingRegressor(n_estimators=300, max_depth=3, random_state=SEED)\n",
    "\n",
    "# Fit and predict\n",
    "gbr.fit(df_prepared, df_labels)\n",
    "gbr_pred = gbr.predict(df_prepared)\n",
    "\n",
    "# Calculate RMSE\n",
    "gbr_rmse = MSE(df_labels, gbr_pred)**(1/2)\n",
    "gbr_rmse"
   ]
  },
  {
   "cell_type": "markdown",
   "id": "baf5e73b",
   "metadata": {},
   "source": [
    "### AdaBoost Regressor"
   ]
  },
  {
   "cell_type": "code",
   "execution_count": 240,
   "id": "20ba7d52",
   "metadata": {},
   "outputs": [
    {
     "data": {
      "text/plain": [
       "46.04615411641944"
      ]
     },
     "execution_count": 240,
     "metadata": {},
     "output_type": "execute_result"
    }
   ],
   "source": [
    "# Import AdaBoostRegressor\n",
    "from sklearn.ensemble import AdaBoostRegressor\n",
    "\n",
    "# Instantiate RandomForestRegressor and AdaBoostRegressor objects\n",
    "rf = RandomForestRegressor(max_features=10, n_estimators=35, random_state=SEED)\n",
    "adb = AdaBoostRegressor(base_estimator=rf, n_estimators=100)\n",
    "\n",
    "# Fit and predict\n",
    "adb.fit(df_prepared, df_labels)\n",
    "adb_pred = adb.predict(df_prepared)\n",
    "\n",
    "# Calculate RMSE\n",
    "adb_rmse = MSE(df_labels, adb_pred)**(1/2)\n",
    "adb_rmse"
   ]
  },
  {
   "cell_type": "markdown",
   "id": "2d4038b0",
   "metadata": {},
   "source": [
    "### Ensemble Learning"
   ]
  },
  {
   "cell_type": "code",
   "execution_count": 241,
   "id": "3e4fb4e6",
   "metadata": {},
   "outputs": [
    {
     "data": {
      "text/plain": [
       "112.11941727120237"
      ]
     },
     "execution_count": 241,
     "metadata": {},
     "output_type": "execute_result"
    }
   ],
   "source": [
    "# Import VotingRegressor\n",
    "from sklearn.ensemble import VotingRegressor\n",
    "\n",
    "# Instantiate RandomForestRegressor and AdaBoostRegressor objects\n",
    "rf = RandomForestRegressor(max_features=10, n_estimators=35, random_state=SEED)\n",
    "adb = AdaBoostRegressor(base_estimator=rf, n_estimators=100)\n",
    "gbr = GradientBoostingRegressor(n_estimators=300, max_depth=3, random_state=SEED)\n",
    "\n",
    "# Define list of regressors\n",
    "regressors = [('Random Forest', rf),\n",
    "              ('AdaBoost', adb),\n",
    "              ('Gradient Boosting', gbr)]\n",
    "\n",
    "# Instantiate VotingRegressor\n",
    "vr = VotingRegressor(estimators=regressors)\n",
    "\n",
    "# Fit and predict\n",
    "vr.fit(df_prepared, df_labels)\n",
    "vr_pred = vr.predict(df_prepared)\n",
    "\n",
    "# Calculate RMSE\n",
    "vr_rmse = MSE(df_labels, vr_pred)**(1/2)\n",
    "vr_rmse"
   ]
  },
  {
   "cell_type": "markdown",
   "id": "bcd3cf3f",
   "metadata": {},
   "source": [
    "### Model Selected\n",
    "AdaBoost Regressor"
   ]
  },
  {
   "cell_type": "markdown",
   "id": "9bfc088d",
   "metadata": {},
   "source": [
    "### Hyperparameter Tuning"
   ]
  },
  {
   "cell_type": "code",
   "execution_count": 242,
   "id": "f314eb1c",
   "metadata": {},
   "outputs": [
    {
     "name": "stdout",
     "output_type": "stream",
     "text": [
      "The best parameters for AdaBoost Regressor: {'base_estimator__max_depth': 5, 'base_estimator__max_features': 19, 'base_estimator__min_samples_leaf': 3, 'base_estimator__n_estimators': 25}\n"
     ]
    }
   ],
   "source": [
    "# Import GridSearchCV\n",
    "from sklearn.model_selection import GridSearchCV\n",
    "\n",
    "# Define parameter grid\n",
    "param_grid = {'base_estimator__max_depth': np.arange(1,6), \n",
    "              'base_estimator__max_features': np.arange(10, 20),\n",
    "              'base_estimator__min_samples_leaf': np.arange(1, 5),\n",
    "              'base_estimator__n_estimators':np.arange(25, 50, 5)}\n",
    "\n",
    "# Instantiate RandomForestRegressor and AdaBoostRegressor objects\n",
    "rf = RandomForestRegressor(max_features=10, n_estimators=35, random_state=SEED)\n",
    "adb = AdaBoostRegressor(base_estimator=rf, n_estimators=100) \n",
    "\n",
    "# Perform GridSearchCV\n",
    "adb_cv = GridSearchCV(adb, param_grid, cv=5)\n",
    "\n",
    "# Fit data\n",
    "adb_cv.fit(df_prepared, df_labels)\n",
    "\n",
    "# Print the tuned parameters and score\n",
    "print(\"The best parameters for AdaBoost Regressor: {}\".format(adb_cv.best_params_))"
   ]
  },
  {
   "cell_type": "markdown",
   "id": "b15f8128",
   "metadata": {},
   "source": [
    "### Model Performance on Test Set"
   ]
  },
  {
   "cell_type": "code",
   "execution_count": 243,
   "id": "108f742b-923c-4f00-939c-b9a059a364d0",
   "metadata": {},
   "outputs": [
    {
     "data": {
      "text/plain": [
       "320.0920988880912"
      ]
     },
     "execution_count": 243,
     "metadata": {},
     "output_type": "execute_result"
    }
   ],
   "source": [
    "# Use Full Pipeline to convert X_test\n",
    "rf = RandomForestRegressor(max_features=19, min_samples_leaf=2, n_estimators=20, max_depth=5)\n",
    "final_model = AdaBoostRegressor(base_estimator=rf, n_estimators=20)\n",
    "\n",
    "# Get X_test and y_test\n",
    "X_test = test_set.drop('Rented Bike Count', axis=1)\n",
    "y_test = test_set['Rented Bike Count'].copy()\n",
    "\n",
    "# Use full_pipeline to transform X_test\n",
    "X_test_prepared = full_pipeline.transform(X_test)\n",
    "\n",
    "# Final predictions\n",
    "final_model.fit(X_test_prepared, y_test)\n",
    "final_predictions = final_model.predict(X_test_prepared)\n",
    "\n",
    "# Calculate RMSE\n",
    "RMSE = MSE(y_test, final_predictions)**(1/2)\n",
    "RMSE"
   ]
  },
  {
   "cell_type": "markdown",
   "id": "b20dba7e",
   "metadata": {},
   "source": [
    "After trying numerous models, I was not able to create a model that can predict rented bike count accurately; I tried removing other columns and making the model less complicated, but it was still not successful. "
   ]
  }
 ],
 "metadata": {
  "colab": {
   "name": "Welcome to DataCamp Workspaces.ipynb",
   "provenance": []
  },
  "kernelspec": {
   "display_name": "Python 3 (ipykernel)",
   "language": "python",
   "name": "python3"
  },
  "language_info": {
   "codemirror_mode": {
    "name": "ipython",
    "version": 3
   },
   "file_extension": ".py",
   "mimetype": "text/x-python",
   "name": "python",
   "nbconvert_exporter": "python",
   "pygments_lexer": "ipython3",
   "version": "3.9.13"
  },
  "varInspector": {
   "cols": {
    "lenName": 16,
    "lenType": 16,
    "lenVar": 40
   },
   "kernels_config": {
    "python": {
     "delete_cmd_postfix": "",
     "delete_cmd_prefix": "del ",
     "library": "var_list.py",
     "varRefreshCmd": "print(var_dic_list())"
    },
    "r": {
     "delete_cmd_postfix": ") ",
     "delete_cmd_prefix": "rm(",
     "library": "var_list.r",
     "varRefreshCmd": "cat(var_dic_list()) "
    }
   },
   "types_to_exclude": [
    "module",
    "function",
    "builtin_function_or_method",
    "instance",
    "_Feature"
   ],
   "window_display": false
  }
 },
 "nbformat": 4,
 "nbformat_minor": 5
}
